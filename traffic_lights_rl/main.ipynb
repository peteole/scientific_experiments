{
 "cells": [
  {
   "cell_type": "code",
   "execution_count": 1,
   "metadata": {},
   "outputs": [],
   "source": [
    "from traffic_lights_env import TrafficLightsEnv\n",
    "import torch\n",
    "from stable_baselines3 import PPO"
   ]
  },
  {
   "cell_type": "code",
   "execution_count": 2,
   "metadata": {},
   "outputs": [
    {
     "data": {
      "text/html": [
       "<pre style=\"white-space:pre;overflow-x:auto;line-height:normal;font-family:Menlo,'DejaVu Sans Mono',consolas,'Courier New',monospace\">/opt/homebrew/lib/python3.11/site-packages/rich/live.py:231: UserWarning: install \"ipywidgets\" for Jupyter support\n",
       "  warnings.warn('install \"ipywidgets\" for Jupyter support')\n",
       "</pre>\n"
      ],
      "text/plain": [
       "/opt/homebrew/lib/python3.11/site-packages/rich/live.py:231: UserWarning: install \"ipywidgets\" for Jupyter support\n",
       "  warnings.warn('install \"ipywidgets\" for Jupyter support')\n"
      ]
     },
     "metadata": {},
     "output_type": "display_data"
    },
    {
     "name": "stdout",
     "output_type": "stream",
     "text": [
      "Using cpu device\n",
      "--------------------------------\n",
      "| time/              |         |\n",
      "|    fps             | 994623  |\n",
      "|    iterations      | 1       |\n",
      "|    time_elapsed    | 2       |\n",
      "|    total_timesteps | 2048000 |\n",
      "--------------------------------\n"
     ]
    }
   ],
   "source": [
    "num_envs=1000\n",
    "device='cpu'\n",
    "env = TrafficLightsEnv(num_envs=num_envs, device=device, physics_config={\n",
    "    'A': 2.0,\n",
    "    'brake_deceleration':8.0,\n",
    "    'C_d':0.32,\n",
    "    'dt':0.1,\n",
    "    'initial_ttg_distribution': torch.distributions.Uniform(0.0, 10.0),\n",
    "    'max_acceleration': 5.0,\n",
    "    'start_position': -150.0,\n",
    "    'start_speed': 30.0,\n",
    "    'max_speed': 30.0,\n",
    "    'mass': 1500.0,\n",
    "    'power':100e3,\n",
    "    'rho':1.225,\n",
    "    'red_crossing_penalty': 100.0,\n",
    "    'costs_per_joule':1.85/(45e6),\n",
    "    'costs_per_second':40/(60*60),\n",
    "})\n",
    "\n",
    "model=PPO('MlpPolicy', env, verbose=1, device=device)\n",
    "model.learn(total_timesteps=100000, progress_bar=True)"
   ]
  },
  {
   "cell_type": "code",
   "execution_count": null,
   "metadata": {},
   "outputs": [
    {
     "data": {
      "text/plain": [
       "tensor([[-0.0907]], grad_fn=<AddmmBackward0>)"
      ]
     },
     "execution_count": 29,
     "metadata": {},
     "output_type": "execute_result"
    }
   ],
   "source": [
    "import numpy as np\n",
    "obs=np.array([[20.0,-120,0.0,2.0]])\n",
    "model.predict(obs)\n",
    "model.policy.get_distribution(torch.tensor(obs)).distribution.mean"
   ]
  }
 ],
 "metadata": {
  "kernelspec": {
   "display_name": "Python 3",
   "language": "python",
   "name": "python3"
  },
  "language_info": {
   "codemirror_mode": {
    "name": "ipython",
    "version": 3
   },
   "file_extension": ".py",
   "mimetype": "text/x-python",
   "name": "python",
   "nbconvert_exporter": "python",
   "pygments_lexer": "ipython3",
   "version": "3.11.6"
  }
 },
 "nbformat": 4,
 "nbformat_minor": 2
}
